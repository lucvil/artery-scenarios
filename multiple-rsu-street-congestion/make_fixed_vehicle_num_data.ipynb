{
 "cells": [
  {
   "cell_type": "markdown",
   "metadata": {},
   "source": [
    "vehicleを固定したデータを作成する"
   ]
  },
  {
   "cell_type": "code",
   "execution_count": 5,
   "metadata": {},
   "outputs": [],
   "source": [
    "import json\n",
    "import os\n",
    "\n",
    "start = 200.00  # 初期値\n",
    "end = 1000.00  # 終了値\n",
    "step = 0.01   # 増加幅\n",
    "proposer_num = 3\n",
    "valid_vehicle_num = 30\n",
    "proposer_id_list = [0, 1, 2]\n",
    "validator_id_list = list(range(proposer_num, 253))\n",
    "valid_validator_id_list = list(range(proposer_num, proposer_num + valid_vehicle_num))\n",
    "\n",
    "# 範囲指定用のfrange関数を定義\n",
    "def frange(start, stop, step):\n",
    "    while start <= stop:\n",
    "        yield start\n",
    "        start += step\n",
    "\n",
    "# 値を生成してリスト化\n",
    "keys = [f\"{x:.2f}\" for x in frange(start, end, step)]\n",
    "\n",
    "# proposer\n",
    "proposer_data_dict = {}\n",
    "for proposer_id in proposer_id_list:\n",
    "    immu_participant_node_dict_item = {}\n",
    "    for key in keys:\n",
    "        if proposer_id == 1:\n",
    "            immu_participant_node_dict_item[str(key)] = list(range(proposer_num, proposer_num + valid_vehicle_num))\n",
    "        else:\n",
    "            immu_participant_node_dict_item[str(key)] = []\n",
    "    proposer_data_dict[str(proposer_id)] = immu_participant_node_dict_item\n",
    "\n",
    "validator_data_dict = {}\n",
    "for validator_id in validator_id_list:\n",
    "    validator_data_item = {}\n",
    "    for key in keys:\n",
    "        if validator_id in valid_validator_id_list:\n",
    "            validator_data_item[str(key)] = [1]\n",
    "        else:\n",
    "            validator_data_item[str(key)] = []\n",
    "    validator_data_dict[str(validator_id)] = validator_data_item\n",
    "\n",
    "# JSONファイルに書き出す\n",
    "for proposer_id in proposer_id_list:\n",
    "    dir_path = f\"./results/fixed_v{str(valid_vehicle_num)}/{str(proposer_id)}/\"\n",
    "\n",
    "    file_name = f\"{dir_path}immu_participant_node_{str(proposer_id)}.json\"\n",
    "    os.makedirs(dir_path, exist_ok=True)\n",
    "    with open(file_name, \"w\") as json_file:\n",
    "        json.dump(proposer_data_dict[str(proposer_id)], json_file, indent=4)\n",
    "\n",
    "    file_name = f\"{dir_path}communication_node_for_vguard_{str(proposer_id)}.json\"\n",
    "    os.makedirs(dir_path, exist_ok=True)\n",
    "    with open(file_name, \"w\") as json_file:\n",
    "        json.dump(proposer_data_dict[str(proposer_id)], json_file, indent=4)\n",
    "\n",
    "for validator_id in validator_id_list:\n",
    "    dir_path = f\"./results/fixed_v{str(valid_vehicle_num)}/{str(validator_id)}/\"\n",
    "\n",
    "    file_name = f\"{dir_path}communication_node_for_vguard_{str(validator_id)}.json\"\n",
    "    os.makedirs(dir_path, exist_ok=True)\n",
    "    with open(file_name, \"w\") as json_file:\n",
    "        json.dump(validator_data_dict[str(validator_id)], json_file, indent=4)\n"
   ]
  }
 ],
 "metadata": {
  "kernelspec": {
   "display_name": "3.11.4",
   "language": "python",
   "name": "python3"
  },
  "language_info": {
   "codemirror_mode": {
    "name": "ipython",
    "version": 3
   },
   "file_extension": ".py",
   "mimetype": "text/x-python",
   "name": "python",
   "nbconvert_exporter": "python",
   "pygments_lexer": "ipython3",
   "version": "3.11.4"
  }
 },
 "nbformat": 4,
 "nbformat_minor": 2
}
